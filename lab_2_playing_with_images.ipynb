{
 "cells": [
  {
   "cell_type": "code",
   "execution_count": null,
   "metadata": {},
   "outputs": [],
   "source": [
    "# Import relevant modules\n",
    "# ImagePrediction is a helper module (helpers/image_models) that assists with setting up the image recognition models\n",
    "# and getting a prediction.\n",
    "from helpers.image_models import ImagePrediction\n",
    "# Ground truth helper so we can see the ground truth of an Imagenet image.\n",
    "from validate_ground_truth.imagenet_ground_truth import ImagenetGroundTruth\n",
    "# Instantiates the ImagePrediction object with the vgg16 model\n",
    "predictor = ImagePrediction(model_name=\"vgg16\")\n",
    "# Instantiates the ImagenetGroundTruth object\n",
    "ground_truth = ImagenetGroundTruth()"
   ]
  },
  {
   "cell_type": "code",
   "execution_count": null,
   "metadata": {},
   "outputs": [],
   "source": [
    "# Will use the predictor to give us a prediction fitness for the llama image.\n",
    "print(predictor.get_prediction(\"./random_images/llama.jpg\"))"
   ]
  },
  {
   "cell_type": "code",
   "execution_count": null,
   "metadata": {},
   "outputs": [],
   "source": [
    "# Will use the predictor to give us a prediction fitness for the truck image.\n",
    "print(predictor.get_prediction(\"./random_images/truck.jpg\"))"
   ]
  },
  {
   "cell_type": "code",
   "execution_count": null,
   "metadata": {},
   "outputs": [],
   "source": [
    "# Gets the prediction for the Imagenet image 'grey_fox' and validates if the ground_truth for this image is correct.\n",
    "prediction = predictor.get_prediction(\"./imagenet_images/ILSVRC2012_val_00000323.JPEG\")\n",
    "print(prediction)\n",
    "print(ground_truth.validate_ground_truth(\"imagenet_images/ILSVRC2012_val_00000323.JPEG\", prediction[0][0]))"
   ]
  },
  {
   "cell_type": "code",
   "execution_count": null,
   "metadata": {},
   "outputs": [],
   "source": [
    "# Gets the fitness prediction for the arctic fox image.\n",
    "arctic_fox = predictor.get_prediction(\"./random_images/arctic-fox.jpg\")\n",
    "print(arctic_fox)"
   ]
  },
  {
   "cell_type": "code",
   "execution_count": null,
   "metadata": {},
   "outputs": [],
   "source": [
    "# Gets the fitness prediction for the arctic fox sepia image.\n",
    "# This is the same image as arctic fox but simply modified to be a sepia colour.\n",
    "arctic_fox_sepia = predictor.get_prediction(\"./random_images/arctic-fox-sepia.jpg\")\n",
    "print(arctic_fox_sepia)"
   ]
  },
  {
   "cell_type": "code",
   "execution_count": null,
   "metadata": {},
   "outputs": [],
   "source": [
    "# Gives us the amount the fitness has decreased between the original and sepia image.\n",
    "# We can see that by just applying a very small change in colour to the image, that we can already reduce the fitness.\n",
    "print(arctic_fox[0][2] - arctic_fox_sepia[0][2])"
   ]
  },
  {
   "cell_type": "code",
   "execution_count": null,
   "metadata": {},
   "outputs": [],
   "source": [
    "# Your task now is to expand on this experiment by manually making changes to the provided images as well as any other images you can find.\n",
    "# Start by running the image through the predictor to get a baseline fitness.\n",
    "# Then copy and modify the image to see what effect this has on the fitness.\n",
    "# Are there any situations where you can flip the top-1 prediction by making these changes to the image.\n",
    "# (NOTE - This may be easier with an image that already has a low prediction fitness to begin with)"
   ]
  },
  {
   "cell_type": "code",
   "execution_count": null,
   "metadata": {},
   "outputs": [],
   "source": [
    "# Just like in the lecture (Leonhard's dog picture) you could also try drawing something and seeing if the model is able to predict this correctly."
   ]
  }
 ],
 "metadata": {
  "kernelspec": {
   "display_name": "Python 3.10.8 ('CS4370-Ozgfi3NM')",
   "language": "python",
   "name": "python3"
  },
  "language_info": {
   "codemirror_mode": {
    "name": "ipython",
    "version": 3
   },
   "file_extension": ".py",
   "mimetype": "text/x-python",
   "name": "python",
   "nbconvert_exporter": "python",
   "pygments_lexer": "ipython3",
   "version": "3.10.8"
  },
  "orig_nbformat": 4,
  "vscode": {
   "interpreter": {
    "hash": "97666b196638f24d7ab12e1d9bb763b82228415352c3dcf19abb3d6d02379789"
   }
  }
 },
 "nbformat": 4,
 "nbformat_minor": 2
}
